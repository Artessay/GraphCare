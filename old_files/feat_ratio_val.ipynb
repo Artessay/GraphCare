{
 "cells": [
  {
   "cell_type": "code",
   "execution_count": 25,
   "metadata": {},
   "outputs": [],
   "source": [
    "task = \"drugrec\""
   ]
  },
  {
   "cell_type": "code",
   "execution_count": 26,
   "metadata": {},
   "outputs": [],
   "source": [
    "import pickle\n",
    "\n",
    "with open(f'/data/pj20/exp_data/ccscm_ccsproc/sample_dataset_mimic3_{task}_th015.pkl', 'rb') as f:\n",
    "    sample_dataset = pickle.load(f)"
   ]
  },
  {
   "cell_type": "code",
   "execution_count": 27,
   "metadata": {},
   "outputs": [],
   "source": [
    "from pyhealth.datasets import split_by_patient, get_dataloader\n",
    "\n",
    "train_dataset, val_dataset, test_dataset = split_by_patient(sample_dataset, [0.8, 0.1, 0.1], train_ratio=1.0, seed=528)"
   ]
  },
  {
   "cell_type": "code",
   "execution_count": 28,
   "metadata": {},
   "outputs": [],
   "source": [
    "val_dataset = list(val_dataset)"
   ]
  },
  {
   "cell_type": "code",
   "execution_count": 29,
   "metadata": {},
   "outputs": [],
   "source": [
    "import random\n",
    "from collections import defaultdict\n",
    "\n",
    "def nested_dict():\n",
    "    return defaultdict(list)\n",
    "\n",
    "def drop_ratio(d, ratio):\n",
    "    new_d = defaultdict(list)\n",
    "    for key, value in d.items():\n",
    "        if key == \"conditions\" or key == \"procedures\" or key == \"drugs\":\n",
    "            if isinstance(value[0], list):\n",
    "                for i in range(len(value)):\n",
    "                        n = int(len(value[i]) * (ratio))  # calculate the number of items to keep\n",
    "                        sampled = random.sample(value[i], n)  # randomly select items to keep\n",
    "                        if len(sampled) > 0:\n",
    "                            new_d[key].append(sampled)\n",
    "                        else:\n",
    "                            new_d[key].append(random.sample(value[i], 1))\n",
    "            else:\n",
    "                n = int(len(value) * (ratio))\n",
    "                sampled = random.sample(value, n)\n",
    "                if len(new_d[key]) == 0:\n",
    "                    new_d[key] = value\n",
    "                else:\n",
    "                    new_d[key] = random.sample(value, 1)\n",
    "        elif key == \"label\":\n",
    "            new_d[key] = value\n",
    "    return new_d"
   ]
  },
  {
   "cell_type": "code",
   "execution_count": 30,
   "metadata": {},
   "outputs": [],
   "source": [
    "ratios = [\n",
    "    0.05,\n",
    "    0.1,\n",
    "    0.2,\n",
    "    0.3,\n",
    "    0.4,\n",
    "    0.5,\n",
    "    0.6,\n",
    "    0.7,\n",
    "    0.8,\n",
    "    0.9,\n",
    "]"
   ]
  },
  {
   "cell_type": "code",
   "execution_count": 31,
   "metadata": {},
   "outputs": [
    {
     "name": "stdout",
     "output_type": "stream",
     "text": [
      "ratio:  0.05\n",
      "Loading embeddings...\n",
      "Processing graph...\n"
     ]
    },
    {
     "name": "stderr",
     "output_type": "stream",
     "text": [
      "100%|██████████| 4346/4346 [00:02<00:00, 2076.43it/s]\n"
     ]
    },
    {
     "name": "stdout",
     "output_type": "stream",
     "text": [
      "Processing dataset...\n"
     ]
    },
    {
     "name": "stderr",
     "output_type": "stream",
     "text": [
      "100%|██████████| 4346/4346 [00:02<00:00, 1488.55it/s]\n"
     ]
    },
    {
     "name": "stdout",
     "output_type": "stream",
     "text": [
      "Done ratio: 0.05\n",
      "ratio:  0.1\n",
      "Loading embeddings...\n",
      "Processing graph...\n"
     ]
    },
    {
     "name": "stderr",
     "output_type": "stream",
     "text": [
      "100%|██████████| 4346/4346 [00:02<00:00, 1725.56it/s]\n"
     ]
    },
    {
     "name": "stdout",
     "output_type": "stream",
     "text": [
      "Processing dataset...\n"
     ]
    },
    {
     "name": "stderr",
     "output_type": "stream",
     "text": [
      "100%|██████████| 4346/4346 [00:04<00:00, 971.98it/s] \n"
     ]
    },
    {
     "name": "stdout",
     "output_type": "stream",
     "text": [
      "Done ratio: 0.1\n",
      "ratio:  0.2\n",
      "Loading embeddings...\n",
      "Processing graph...\n"
     ]
    },
    {
     "name": "stderr",
     "output_type": "stream",
     "text": [
      "100%|██████████| 4346/4346 [00:03<00:00, 1215.36it/s]\n"
     ]
    },
    {
     "name": "stdout",
     "output_type": "stream",
     "text": [
      "Processing dataset...\n"
     ]
    },
    {
     "name": "stderr",
     "output_type": "stream",
     "text": [
      "100%|██████████| 4346/4346 [00:04<00:00, 1016.33it/s]\n"
     ]
    },
    {
     "name": "stdout",
     "output_type": "stream",
     "text": [
      "Done ratio: 0.2\n",
      "ratio:  0.3\n",
      "Loading embeddings...\n",
      "Processing graph...\n"
     ]
    },
    {
     "name": "stderr",
     "output_type": "stream",
     "text": [
      "100%|██████████| 4346/4346 [00:05<00:00, 801.39it/s]\n"
     ]
    },
    {
     "name": "stdout",
     "output_type": "stream",
     "text": [
      "Processing dataset...\n"
     ]
    },
    {
     "name": "stderr",
     "output_type": "stream",
     "text": [
      "100%|██████████| 4346/4346 [00:05<00:00, 741.75it/s]\n"
     ]
    },
    {
     "name": "stdout",
     "output_type": "stream",
     "text": [
      "Done ratio: 0.3\n",
      "ratio:  0.4\n",
      "Loading embeddings...\n",
      "Processing graph...\n"
     ]
    },
    {
     "name": "stderr",
     "output_type": "stream",
     "text": [
      "100%|██████████| 4346/4346 [00:07<00:00, 577.82it/s]\n"
     ]
    },
    {
     "name": "stdout",
     "output_type": "stream",
     "text": [
      "Processing dataset...\n"
     ]
    },
    {
     "name": "stderr",
     "output_type": "stream",
     "text": [
      "100%|██████████| 4346/4346 [00:07<00:00, 545.65it/s]\n"
     ]
    },
    {
     "name": "stdout",
     "output_type": "stream",
     "text": [
      "Done ratio: 0.4\n",
      "ratio:  0.5\n",
      "Loading embeddings...\n",
      "Processing graph...\n"
     ]
    },
    {
     "name": "stderr",
     "output_type": "stream",
     "text": [
      "100%|██████████| 4346/4346 [00:08<00:00, 507.21it/s]\n"
     ]
    },
    {
     "name": "stdout",
     "output_type": "stream",
     "text": [
      "Processing dataset...\n"
     ]
    },
    {
     "name": "stderr",
     "output_type": "stream",
     "text": [
      "100%|██████████| 4346/4346 [00:09<00:00, 453.82it/s]\n"
     ]
    },
    {
     "name": "stdout",
     "output_type": "stream",
     "text": [
      "Done ratio: 0.5\n",
      "ratio:  0.6\n",
      "Loading embeddings...\n",
      "Processing graph...\n"
     ]
    },
    {
     "name": "stderr",
     "output_type": "stream",
     "text": [
      "100%|██████████| 4346/4346 [00:10<00:00, 401.57it/s]\n"
     ]
    },
    {
     "name": "stdout",
     "output_type": "stream",
     "text": [
      "Processing dataset...\n"
     ]
    },
    {
     "name": "stderr",
     "output_type": "stream",
     "text": [
      "100%|██████████| 4346/4346 [00:11<00:00, 374.78it/s]\n"
     ]
    },
    {
     "name": "stdout",
     "output_type": "stream",
     "text": [
      "Done ratio: 0.6\n",
      "ratio:  0.7\n",
      "Loading embeddings...\n",
      "Processing graph...\n"
     ]
    },
    {
     "name": "stderr",
     "output_type": "stream",
     "text": [
      "100%|██████████| 4346/4346 [00:11<00:00, 385.35it/s]\n"
     ]
    },
    {
     "name": "stdout",
     "output_type": "stream",
     "text": [
      "Processing dataset...\n"
     ]
    },
    {
     "name": "stderr",
     "output_type": "stream",
     "text": [
      "100%|██████████| 4346/4346 [00:12<00:00, 355.61it/s]\n"
     ]
    },
    {
     "name": "stdout",
     "output_type": "stream",
     "text": [
      "Done ratio: 0.7\n",
      "ratio:  0.8\n",
      "Loading embeddings...\n",
      "Processing graph...\n"
     ]
    },
    {
     "name": "stderr",
     "output_type": "stream",
     "text": [
      "100%|██████████| 4346/4346 [00:12<00:00, 338.88it/s]\n"
     ]
    },
    {
     "name": "stdout",
     "output_type": "stream",
     "text": [
      "Processing dataset...\n"
     ]
    },
    {
     "name": "stderr",
     "output_type": "stream",
     "text": [
      "100%|██████████| 4346/4346 [00:13<00:00, 315.94it/s]\n"
     ]
    },
    {
     "name": "stdout",
     "output_type": "stream",
     "text": [
      "Done ratio: 0.8\n",
      "ratio:  0.9\n",
      "Loading embeddings...\n",
      "Processing graph...\n"
     ]
    },
    {
     "name": "stderr",
     "output_type": "stream",
     "text": [
      "100%|██████████| 4346/4346 [00:15<00:00, 272.80it/s]\n"
     ]
    },
    {
     "name": "stdout",
     "output_type": "stream",
     "text": [
      "Processing dataset...\n"
     ]
    },
    {
     "name": "stderr",
     "output_type": "stream",
     "text": [
      "100%|██████████| 4346/4346 [00:15<00:00, 279.52it/s]\n"
     ]
    },
    {
     "name": "stdout",
     "output_type": "stream",
     "text": [
      "Done ratio: 0.9\n"
     ]
    }
   ],
   "source": [
    "from copy import deepcopy\n",
    "from data_prepare import *\n",
    "from tqdm import tqdm\n",
    "\n",
    "for ratio in ratios:\n",
    "    print(\"ratio: \", ratio)\n",
    "    val_instance = deepcopy(val_dataset)\n",
    "\n",
    "    for i in range(len(val_instance)):\n",
    "        val_instance[i] = drop_ratio(val_instance[i], ratio)\n",
    "\n",
    "    print(\"Loading embeddings...\")\n",
    "    ent2id, rel2id, ent_emb, rel_emb = load_embeddings(task)\n",
    "    map_cluster, map_cluster_inv, map_cluster_rel, map_cluster_inv_rel = clustering(task, ent_emb, rel_emb, threshold=0.15, load_cluster=True, save_cluster=False)\n",
    "\n",
    "    print(\"Processing graph...\")\n",
    "    G = process_graph(\"mimic3\", task, val_instance, ent2id, rel2id, map_cluster, map_cluster_inv, map_cluster_rel, map_cluster_inv_rel, save_graph=False)\n",
    "    G_tg = from_networkx(G)\n",
    "    \n",
    "    print(\"Processing dataset...\")\n",
    "    valid_dataset = process_sample_dataset(\"mimic3\", task, val_instance, G_tg, ent2id, rel2id, map_cluster, map_cluster_inv, map_cluster_rel, map_cluster_inv_rel, save_dataset=False)\n",
    "\n",
    "    with open(f'/data/pj20/exp_data/ccscm_ccsproc/val_dataset_mimic3_{task}_th015_{ratio}.pkl', 'wb') as f:\n",
    "        pickle.dump(valid_dataset, f)\n",
    "\n",
    "    print(f\"Done ratio: {ratio}\")"
   ]
  },
  {
   "cell_type": "code",
   "execution_count": 32,
   "metadata": {},
   "outputs": [
    {
     "name": "stdout",
     "output_type": "stream",
     "text": [
      "{'conditions': [[['3', '55', '80', '131', '157', '135', '159']]], 'procedures': [[['216']]], 'drugs': [['N01A', 'C07A', 'N06B', 'C08D', 'J01D', 'V04C', 'N02B', 'N05A', 'B05X', 'N05B', 'A02B', 'C10A', 'M03B', 'A12B', 'B05B', 'A12C', 'N02A', 'A03F', 'C09A', 'B01A', 'G04B', 'N03A', 'A02A', 'A06A', 'J01C', 'P01A', 'M01A', 'A07A']], 'node_set': [[1, 1028, 1033, 1035, 12, 1038, 2066, 22, 23, 27, 2076, 29, 1053, 2082, 1059, 38, 1062, 1064, 41, 42, 1070, 1071, 2101, 2102, 55, 56, 2105, 58, 59, 62, 64, 65, 2114, 69, 72, 78, 81, 85, 2134, 2135, 91, 92, 2140, 1116, 95, 96, 98, 99, 2148, 104, 106, 1131, 113, 1137, 1140, 2167, 1149, 2174, 128, 1155, 134, 135, 2185, 138, 139, 141, 1166, 1167, 145, 1170, 2195, 1176, 1178, 1182, 161, 162, 165, 170, 1194, 172, 176, 177, 1208, 1209, 189, 191, 195, 2244, 197, 1221, 2249, 201, 1225, 1229, 206, 1230, 2258, 2265, 1241, 2267, 220, 221, 1246, 223, 233, 234, 1258, 237, 1265, 256, 1284, 1286, 1288, 266, 269, 270, 271, 272, 2321, 277, 281, 1306, 2334, 287, 2336, 289, 1313, 2339, 301, 302, 305, 313, 1338, 320, 1356, 336, 1363, 1364, 341, 2391, 1367, 345, 1370, 356, 2409, 364, 365, 1391, 2419, 371, 1398, 377, 382, 387, 1411, 391, 1417, 406, 1435, 413, 418, 2468, 2473, 426, 1452, 431, 438, 1464, 1468, 446, 448, 1483, 2508, 465, 1489, 473, 479, 482, 483, 487, 491, 496, 2545, 497, 505, 2554, 508, 515, 516, 2566, 2567, 518, 526, 2575, 529, 530, 1554, 534, 536, 537, 547, 1573, 1577, 554, 555, 568, 569, 1598, 2626, 1602, 580, 1603, 1605, 583, 2632, 586, 2635, 587, 590, 1617, 595, 1621, 2646, 602, 611, 2660, 615, 616, 2664, 618, 1646, 627, 2678, 632, 1665, 644, 647, 649, 651, 1677, 660, 1687, 665, 2714, 1692, 1694, 2720, 673, 674, 681, 2730, 684, 1709, 1710, 1713, 693, 694, 2746, 699, 702, 712, 717, 718, 722, 723, 736, 739, 749, 1779, 1782, 759, 768, 770, 1794, 1805, 1808, 791, 793, 795, 1825, 805, 1832, 1834, 811, 813, 821, 1850, 1853, 838, 840, 843, 844, 848, 1873, 859, 863, 866, 867, 1897, 1900, 877, 1905, 1913, 893, 899, 1925, 903, 1938, 926, 927, 1957, 1962, 956, 961, 963, 1987, 967, 970, 991, 2016, 2017, 2018, 998, 1009, 1013, 1015]], 'visit_padded_node': [tensor([[0., 1., 0.,  ..., 0., 0., 0.],\n",
      "        [0., 0., 0.,  ..., 0., 0., 0.],\n",
      "        [0., 0., 0.,  ..., 0., 0., 0.],\n",
      "        ...,\n",
      "        [0., 0., 0.,  ..., 0., 0., 0.],\n",
      "        [0., 0., 0.,  ..., 0., 0., 0.],\n",
      "        [0., 0., 0.,  ..., 0., 0., 0.]])]}\n"
     ]
    }
   ],
   "source": [
    "l = get_dataloader(val_instance,batch_size=1, shuffle=False)\n",
    "\n",
    "for data in l:\n",
    "    print(data)\n",
    "    break"
   ]
  },
  {
   "cell_type": "code",
   "execution_count": null,
   "metadata": {},
   "outputs": [],
   "source": []
  },
  {
   "cell_type": "code",
   "execution_count": null,
   "metadata": {},
   "outputs": [],
   "source": []
  }
 ],
 "metadata": {
  "kernelspec": {
   "display_name": "Python 3.8.13 ('kgc')",
   "language": "python",
   "name": "python3"
  },
  "language_info": {
   "codemirror_mode": {
    "name": "ipython",
    "version": 3
   },
   "file_extension": ".py",
   "mimetype": "text/x-python",
   "name": "python",
   "nbconvert_exporter": "python",
   "pygments_lexer": "ipython3",
   "version": "3.8.13"
  },
  "orig_nbformat": 4,
  "vscode": {
   "interpreter": {
    "hash": "3d0509d9aa81f2882b18eeb72d4d23c32cae9029e9b99f63cde94ba86c35ac78"
   }
  }
 },
 "nbformat": 4,
 "nbformat_minor": 2
}
