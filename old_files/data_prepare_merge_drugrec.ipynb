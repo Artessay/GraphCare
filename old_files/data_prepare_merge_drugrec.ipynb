{
 "cells": [
  {
   "cell_type": "code",
   "execution_count": null,
   "metadata": {},
   "outputs": [],
   "source": [
    "import pickle\n",
    "import json\n",
    "from tqdm import tqdm\n",
    "import numpy as np\n",
    "import networkx as nx\n",
    "\n",
    "# with open('./exp_data/ccscm_ccsproc/sample_dataset.pkl', 'rb') as f:\n",
    "#     sample_dataset= pickle.load(f)\n",
    "with open('./graphs/cond_proc/CCSCM_CCSPROC/ent2id.json', 'r') as file:\n",
    "    ent2id = json.load(file)\n",
    "with open('./graphs/cond_proc/CCSCM_CCSPROC/rel2id.json', 'r') as file:\n",
    "    rel2id = json.load(file)\n",
    "with open('./graphs/cond_proc/CCSCM_CCSPROC/entity_embedding.pkl', 'rb') as file:\n",
    "    ent_emb_gpt = pickle.load(file)\n",
    "with open('./graphs/cond_proc/CCSCM_CCSPROC/relation_embedding.pkl', 'rb') as file:\n",
    "    rel_emb = pickle.load(file)"
   ]
  }
 ],
 "metadata": {
  "kernelspec": {
   "display_name": "Python 3.6.8 64-bit",
   "language": "python",
   "name": "python3"
  },
  "language_info": {
   "name": "python",
   "version": "3.6.8"
  },
  "orig_nbformat": 4,
  "vscode": {
   "interpreter": {
    "hash": "31f2aee4e71d21fbe5cf8b01ff0e069b9275f58929596ceb00d14d90e3e16cd6"
   }
  }
 },
 "nbformat": 4,
 "nbformat_minor": 2
}
