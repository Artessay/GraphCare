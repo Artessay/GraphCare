{
 "cells": [
  {
   "cell_type": "code",
   "execution_count": 46,
   "metadata": {},
   "outputs": [],
   "source": [
    "dataset = \"mimic3\"\n",
    "task = \"drugrec\"\n",
    "kg = \"GPT-KG\""
   ]
  },
  {
   "cell_type": "code",
   "execution_count": 47,
   "metadata": {},
   "outputs": [],
   "source": [
    "from graphcare import *\n",
    "\n",
    "sample_dataset, G, ent2id, rel2id, ent_emb, rel_emb, \\\n",
    "            map_cluster, map_cluster_inv, map_cluster_rel, map_cluster_rel_inv, \\\n",
    "                ccscm_id2clus, ccsproc_id2clus, atc3_id2clus = load_everything(dataset, task, kg, kg_ratio=1.0)"
   ]
  },
  {
   "cell_type": "code",
   "execution_count": 48,
   "metadata": {},
   "outputs": [
    {
     "name": "stdout",
     "output_type": "stream",
     "text": [
      "Labeling direct ehr nodes...\n"
     ]
    },
    {
     "name": "stderr",
     "output_type": "stream",
     "text": [
      "100%|██████████| 44399/44399 [00:01<00:00, 40232.14it/s]"
     ]
    },
    {
     "name": "stdout",
     "output_type": "stream",
     "text": [
      "Splitting dataset...\n"
     ]
    },
    {
     "name": "stderr",
     "output_type": "stream",
     "text": [
      "\n"
     ]
    }
   ],
   "source": [
    "mode, out_channels, loss_function = get_mode_and_out_channels_and_loss_func(task=task, sample_dataset=sample_dataset)\n",
    "\n",
    "# label direct ehr node\n",
    "print(\"Labeling direct ehr nodes...\")\n",
    "sample_dataset = label_ehr_nodes(task, sample_dataset, len(map_cluster), ccscm_id2clus, ccsproc_id2clus, atc3_id2clus)\n",
    "# sample_dataset = label_k_hop_nodes(G=G_tg, dataset=sample_dataset, k=2)\n",
    "print(\"Splitting dataset...\")\n",
    "# train_dataset, val_dataset, test_dataset = split_by_patient(sample_dataset, [0.8, 0.1, 0.1], train_ratio=1.0, seed=528)"
   ]
  },
  {
   "cell_type": "code",
   "execution_count": 49,
   "metadata": {},
   "outputs": [],
   "source": [
    "import random\n",
    "\n",
    "ratio = 0.3\n",
    "node_frac = 1- ratio\n",
    "\n",
    "nodes = list(G.nodes())\n",
    "random.shuffle(nodes)\n",
    "\n",
    "num_nodes_to_remove = int(node_frac * G.number_of_nodes())\n",
    "nodes_to_remove = nodes[:num_nodes_to_remove]\n",
    "\n",
    "for node in nodes_to_remove:\n",
    "    G.remove_node(node)\n",
    "G_tg = from_networkx(G)"
   ]
  },
  {
   "cell_type": "code",
   "execution_count": 50,
   "metadata": {},
   "outputs": [],
   "source": [
    "y_to_x_map = {}\n",
    "for i, y in enumerate(G_tg.y):\n",
    "    y_to_x_map[int(y)] = i"
   ]
  },
  {
   "cell_type": "code",
   "execution_count": 51,
   "metadata": {},
   "outputs": [
    {
     "name": "stderr",
     "output_type": "stream",
     "text": [
      "100%|██████████| 44399/44399 [04:15<00:00, 173.86it/s]\n"
     ]
    }
   ],
   "source": [
    "from copy import deepcopy\n",
    "\n",
    "for patient in tqdm(sample_dataset):\n",
    "    node_list = []\n",
    "    for node in patient['node_set']:\n",
    "        if node not in nodes_to_remove:\n",
    "            node_list.append(node)\n",
    "\n",
    "    patient['node_set'] = [y_to_x_map[y] for y in node_list]"
   ]
  },
  {
   "cell_type": "code",
   "execution_count": 52,
   "metadata": {},
   "outputs": [],
   "source": [
    "all_set = Dataset(G=G_tg, dataset=sample_dataset, task=task)"
   ]
  },
  {
   "cell_type": "code",
   "execution_count": 53,
   "metadata": {},
   "outputs": [
    {
     "name": "stderr",
     "output_type": "stream",
     "text": [
      " 77%|███████▋  | 34282/44399 [01:36<00:28, 356.65it/s]\n"
     ]
    },
    {
     "ename": "IndexError",
     "evalue": "index 826 is out of bounds for dimension 0 with size 826",
     "output_type": "error",
     "traceback": [
      "\u001b[0;31m---------------------------------------------------------------------------\u001b[0m",
      "\u001b[0;31mIndexError\u001b[0m                                Traceback (most recent call last)",
      "\u001b[1;32m/home/pj20/GraphCare/graphcare_stat.ipynb Cell 8\u001b[0m in \u001b[0;36m<cell line: 6>\u001b[0;34m()\u001b[0m\n\u001b[1;32m      <a href='vscode-notebook-cell://ssh-remote%2Bsunlab-serv-03.cs.illinois.edu/home/pj20/GraphCare/graphcare_stat.ipynb#W6sdnNjb2RlLXJlbW90ZQ%3D%3D?line=3'>4</a>\u001b[0m edges_count \u001b[39m=\u001b[39m \u001b[39m0\u001b[39m\n\u001b[1;32m      <a href='vscode-notebook-cell://ssh-remote%2Bsunlab-serv-03.cs.illinois.edu/home/pj20/GraphCare/graphcare_stat.ipynb#W6sdnNjb2RlLXJlbW90ZQ%3D%3D?line=5'>6</a>\u001b[0m \u001b[39mfor\u001b[39;00m i \u001b[39min\u001b[39;00m tqdm(\u001b[39mrange\u001b[39m(\u001b[39mlen\u001b[39m(all_set))):\n\u001b[0;32m----> <a href='vscode-notebook-cell://ssh-remote%2Bsunlab-serv-03.cs.illinois.edu/home/pj20/GraphCare/graphcare_stat.ipynb#W6sdnNjb2RlLXJlbW90ZQ%3D%3D?line=6'>7</a>\u001b[0m     nodes_count \u001b[39m+\u001b[39m\u001b[39m=\u001b[39m all_set[i]\u001b[39m.\u001b[39mx\u001b[39m.\u001b[39mshape[\u001b[39m0\u001b[39m]\n\u001b[1;32m      <a href='vscode-notebook-cell://ssh-remote%2Bsunlab-serv-03.cs.illinois.edu/home/pj20/GraphCare/graphcare_stat.ipynb#W6sdnNjb2RlLXJlbW90ZQ%3D%3D?line=7'>8</a>\u001b[0m     edges_count \u001b[39m+\u001b[39m\u001b[39m=\u001b[39m all_set[i]\u001b[39m.\u001b[39medge_index\u001b[39m.\u001b[39mshape[\u001b[39m1\u001b[39m]\n\u001b[1;32m     <a href='vscode-notebook-cell://ssh-remote%2Bsunlab-serv-03.cs.illinois.edu/home/pj20/GraphCare/graphcare_stat.ipynb#W6sdnNjb2RlLXJlbW90ZQ%3D%3D?line=9'>10</a>\u001b[0m avg_nodes \u001b[39m=\u001b[39m nodes_count \u001b[39m/\u001b[39m \u001b[39mlen\u001b[39m(all_set)\n",
      "File \u001b[0;32m~/GraphCare/graphcare.py:205\u001b[0m, in \u001b[0;36mDataset.__getitem__\u001b[0;34m(self, idx)\u001b[0m\n\u001b[1;32m    204\u001b[0m \u001b[39mdef\u001b[39;00m \u001b[39m__getitem__\u001b[39m(\u001b[39mself\u001b[39m, idx):\n\u001b[0;32m--> 205\u001b[0m     \u001b[39mreturn\u001b[39;00m get_subgraph(G\u001b[39m=\u001b[39;49m\u001b[39mself\u001b[39;49m\u001b[39m.\u001b[39;49mG, dataset\u001b[39m=\u001b[39;49m\u001b[39mself\u001b[39;49m\u001b[39m.\u001b[39;49mdataset, task\u001b[39m=\u001b[39;49m\u001b[39mself\u001b[39;49m\u001b[39m.\u001b[39;49mtask, idx\u001b[39m=\u001b[39;49midx)\n",
      "File \u001b[0;32m~/GraphCare/graphcare.py:177\u001b[0m, in \u001b[0;36mget_subgraph\u001b[0;34m(G, dataset, task, idx)\u001b[0m\n\u001b[1;32m    168\u001b[0m     patient \u001b[39m=\u001b[39m dataset[idx]\n\u001b[1;32m    170\u001b[0m \u001b[39m# less focused \u001b[39;00m\n\u001b[1;32m    171\u001b[0m \u001b[39m# L = G.subgraph(torch.tensor(patient['node_set']))\u001b[39;00m\n\u001b[1;32m    172\u001b[0m \u001b[39m# P = L.edge_subgraph(torch.tensor(patient['node_set']))\u001b[39;00m\n\u001b[0;32m   (...)\u001b[0m\n\u001b[1;32m    175\u001b[0m \u001b[39m# another way to get subgraph\u001b[39;00m\n\u001b[1;32m    176\u001b[0m \u001b[39m# L = G.edge_subgraph(torch.tensor(patient['node_set']))\u001b[39;00m\n\u001b[0;32m--> 177\u001b[0m nodes, _, _, _ \u001b[39m=\u001b[39m k_hop_subgraph(torch\u001b[39m.\u001b[39;49mtensor(patient[\u001b[39m'\u001b[39;49m\u001b[39mnode_set\u001b[39;49m\u001b[39m'\u001b[39;49m]), \u001b[39m2\u001b[39;49m, G\u001b[39m.\u001b[39;49medge_index)\n\u001b[1;32m    178\u001b[0m L \u001b[39m=\u001b[39m G\u001b[39m.\u001b[39medge_subgraph(nodes)\n\u001b[1;32m    179\u001b[0m P \u001b[39m=\u001b[39m L\u001b[39m.\u001b[39msubgraph(torch\u001b[39m.\u001b[39mtensor(patient[\u001b[39m'\u001b[39m\u001b[39mnode_set\u001b[39m\u001b[39m'\u001b[39m]))\n",
      "File \u001b[0;32m~/miniconda3/envs/kgc/lib/python3.8/site-packages/torch_geometric/utils/subgraph.py:301\u001b[0m, in \u001b[0;36mk_hop_subgraph\u001b[0;34m(node_idx, num_hops, edge_index, relabel_nodes, num_nodes, flow, directed)\u001b[0m\n\u001b[1;32m    299\u001b[0m \u001b[39mfor\u001b[39;00m _ \u001b[39min\u001b[39;00m \u001b[39mrange\u001b[39m(num_hops):\n\u001b[1;32m    300\u001b[0m     node_mask\u001b[39m.\u001b[39mfill_(\u001b[39mFalse\u001b[39;00m)\n\u001b[0;32m--> 301\u001b[0m     node_mask[subsets[\u001b[39m-\u001b[39;49m\u001b[39m1\u001b[39;49m]] \u001b[39m=\u001b[39m \u001b[39mTrue\u001b[39;00m\n\u001b[1;32m    302\u001b[0m     torch\u001b[39m.\u001b[39mindex_select(node_mask, \u001b[39m0\u001b[39m, row, out\u001b[39m=\u001b[39medge_mask)\n\u001b[1;32m    303\u001b[0m     subsets\u001b[39m.\u001b[39mappend(col[edge_mask])\n",
      "\u001b[0;31mIndexError\u001b[0m: index 826 is out of bounds for dimension 0 with size 826"
     ]
    }
   ],
   "source": [
    "from tqdm import tqdm\n",
    "\n",
    "nodes_count = 0\n",
    "edges_count = 0\n",
    "\n",
    "for i in tqdm(range(len(all_set))):\n",
    "    nodes_count += all_set[i].x.shape[0]\n",
    "    edges_count += all_set[i].edge_index.shape[1]\n",
    "\n",
    "avg_nodes = nodes_count / len(all_set)\n",
    "avg_edges = edges_count / len(all_set)\n",
    "print(\"avg_nodes: \", avg_nodes)\n",
    "print(\"avg_edges: \", avg_edges)"
   ]
  },
  {
   "cell_type": "code",
   "execution_count": 54,
   "metadata": {},
   "outputs": [
    {
     "name": "stdout",
     "output_type": "stream",
     "text": [
      "avg_nodes:  139.7239950994691\n",
      "avg_edges:  139.58946385858468\n"
     ]
    }
   ],
   "source": [
    "avg_nodes = nodes_count / 34282\n",
    "avg_edges = edges_count / 34282\n",
    "print(\"avg_nodes: \", avg_nodes)\n",
    "print(\"avg_edges: \", avg_edges)"
   ]
  },
  {
   "cell_type": "code",
   "execution_count": null,
   "metadata": {},
   "outputs": [],
   "source": []
  }
 ],
 "metadata": {
  "kernelspec": {
   "display_name": "Python 3.8.13 ('kgc')",
   "language": "python",
   "name": "python3"
  },
  "language_info": {
   "codemirror_mode": {
    "name": "ipython",
    "version": 3
   },
   "file_extension": ".py",
   "mimetype": "text/x-python",
   "name": "python",
   "nbconvert_exporter": "python",
   "pygments_lexer": "ipython3",
   "version": "3.8.13"
  },
  "orig_nbformat": 4,
  "vscode": {
   "interpreter": {
    "hash": "3d0509d9aa81f2882b18eeb72d4d23c32cae9029e9b99f63cde94ba86c35ac78"
   }
  }
 },
 "nbformat": 4,
 "nbformat_minor": 2
}
