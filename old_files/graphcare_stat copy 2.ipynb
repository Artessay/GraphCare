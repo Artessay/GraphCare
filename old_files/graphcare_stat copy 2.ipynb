{
 "cells": [
  {
   "cell_type": "code",
   "execution_count": 25,
   "metadata": {},
   "outputs": [],
   "source": [
    "dataset = \"mimic3\"\n",
    "task = \"mortality\"\n",
    "kg = \"GPT-KG\""
   ]
  },
  {
   "cell_type": "code",
   "execution_count": 26,
   "metadata": {},
   "outputs": [],
   "source": [
    "from graphcare import *\n",
    "\n",
    "sample_dataset, G, ent2id, rel2id, ent_emb, rel_emb, \\\n",
    "            map_cluster, map_cluster_inv, map_cluster_rel, map_cluster_rel_inv, \\\n",
    "                ccscm_id2clus, ccsproc_id2clus, atc3_id2clus = load_everything(dataset, task, kg, kg_ratio=1.0)"
   ]
  },
  {
   "cell_type": "code",
   "execution_count": 27,
   "metadata": {},
   "outputs": [
    {
     "name": "stdout",
     "output_type": "stream",
     "text": [
      "Labeling direct ehr nodes...\n"
     ]
    },
    {
     "name": "stderr",
     "output_type": "stream",
     "text": [
      "100%|██████████| 9717/9717 [00:00<00:00, 14945.55it/s]"
     ]
    },
    {
     "name": "stdout",
     "output_type": "stream",
     "text": [
      "Splitting dataset...\n"
     ]
    },
    {
     "name": "stderr",
     "output_type": "stream",
     "text": [
      "\n"
     ]
    }
   ],
   "source": [
    "mode, out_channels, loss_function = get_mode_and_out_channels_and_loss_func(task=task, sample_dataset=sample_dataset)\n",
    "\n",
    "# label direct ehr node\n",
    "print(\"Labeling direct ehr nodes...\")\n",
    "sample_dataset = label_ehr_nodes(task, sample_dataset, len(map_cluster), ccscm_id2clus, ccsproc_id2clus, atc3_id2clus)\n",
    "# sample_dataset = label_k_hop_nodes(G=G_tg, dataset=sample_dataset, k=2)\n",
    "print(\"Splitting dataset...\")\n",
    "# train_dataset, val_dataset, test_dataset = split_by_patient(sample_dataset, [0.8, 0.1, 0.1], train_ratio=1.0, seed=528)"
   ]
  },
  {
   "cell_type": "code",
   "execution_count": 28,
   "metadata": {},
   "outputs": [],
   "source": [
    "ehr_nodes = set(ccscm_id2clus.values()).union(set(ccsproc_id2clus.values())).union(set(atc3_id2clus.values()))"
   ]
  },
  {
   "cell_type": "code",
   "execution_count": 29,
   "metadata": {},
   "outputs": [],
   "source": [
    "import random\n",
    "\n",
    "ratio = 0.7\n",
    "node_frac = 1- ratio\n",
    "\n",
    "nodes = list(G.nodes())\n",
    "random.shuffle(nodes)\n",
    "\n",
    "num_nodes_to_remove = int(node_frac * G.number_of_nodes())\n",
    "nodes_to_remove = nodes[:num_nodes_to_remove]\n",
    "\n",
    "for node in nodes_to_remove:\n",
    "    if str(node) not in ehr_nodes:\n",
    "        G.remove_node(node)\n",
    "G_tg = from_networkx(G)"
   ]
  },
  {
   "cell_type": "code",
   "execution_count": 30,
   "metadata": {},
   "outputs": [],
   "source": [
    "y_to_x_map = {}\n",
    "for i, y in enumerate(G_tg.y):\n",
    "    y_to_x_map[int(y)] = i"
   ]
  },
  {
   "cell_type": "code",
   "execution_count": 31,
   "metadata": {},
   "outputs": [
    {
     "name": "stderr",
     "output_type": "stream",
     "text": [
      "100%|██████████| 9717/9717 [03:00<00:00, 53.80it/s]\n"
     ]
    }
   ],
   "source": [
    "from copy import deepcopy\n",
    "\n",
    "for patient in tqdm(sample_dataset):\n",
    "    node_list = []\n",
    "    for node in patient['node_set']:\n",
    "        if node not in nodes_to_remove or str(node) in ehr_nodes:\n",
    "            node_list.append(node)\n",
    "\n",
    "    patient['node_set'] = [y_to_x_map[y] for y in node_list]"
   ]
  },
  {
   "cell_type": "code",
   "execution_count": null,
   "metadata": {},
   "outputs": [],
   "source": []
  },
  {
   "cell_type": "code",
   "execution_count": 32,
   "metadata": {},
   "outputs": [],
   "source": [
    "all_set = Dataset(G=G_tg, dataset=sample_dataset, task=task, strategy=\"1\")"
   ]
  },
  {
   "cell_type": "code",
   "execution_count": 33,
   "metadata": {},
   "outputs": [
    {
     "name": "stderr",
     "output_type": "stream",
     "text": [
      "100%|██████████| 9717/9717 [00:27<00:00, 349.16it/s]"
     ]
    },
    {
     "name": "stdout",
     "output_type": "stream",
     "text": [
      "avg_nodes:  1119.496243696614\n",
      "avg_edges:  757.2464752495626\n"
     ]
    },
    {
     "name": "stderr",
     "output_type": "stream",
     "text": [
      "\n"
     ]
    }
   ],
   "source": [
    "from tqdm import tqdm\n",
    "\n",
    "nodes_count = 0\n",
    "edges_count = 0\n",
    "cnt = 0\n",
    "\n",
    "for i in tqdm(range(len(all_set))):\n",
    "    try:\n",
    "        nodes_count += all_set[i].x.shape[0]\n",
    "        edges_count += all_set[i].edge_index.shape[1]\n",
    "        cnt += 1\n",
    "    except:\n",
    "        continue\n",
    "\n",
    "avg_nodes = nodes_count / cnt\n",
    "avg_edges = edges_count / cnt\n",
    "print(\"avg_nodes: \", avg_nodes)\n",
    "print(\"avg_edges: \", avg_edges)"
   ]
  },
  {
   "cell_type": "code",
   "execution_count": 34,
   "metadata": {},
   "outputs": [],
   "source": [
    "for patient in sample_dataset:\n",
    "    patient['node_set'] = []"
   ]
  },
  {
   "cell_type": "code",
   "execution_count": 35,
   "metadata": {},
   "outputs": [
    {
     "name": "stderr",
     "output_type": "stream",
     "text": [
      "100%|██████████| 9717/9717 [00:01<00:00, 7078.89it/s]\n"
     ]
    }
   ],
   "source": [
    "sample_dataset = label_ehr_nodes(task, sample_dataset, len(map_cluster), ccscm_id2clus, ccsproc_id2clus, atc3_id2clus)\n"
   ]
  },
  {
   "cell_type": "code",
   "execution_count": 36,
   "metadata": {},
   "outputs": [
    {
     "ename": "KeyError",
     "evalue": "'edge_set'",
     "output_type": "error",
     "traceback": [
      "\u001b[0;31m---------------------------------------------------------------------------\u001b[0m",
      "\u001b[0;31mKeyError\u001b[0m                                  Traceback (most recent call last)",
      "\u001b[1;32m/home/pj20/GraphCare/graphcare_stat copy 2.ipynb Cell 13\u001b[0m in \u001b[0;36m<cell line: 6>\u001b[0;34m()\u001b[0m\n\u001b[1;32m      <a href='vscode-notebook-cell://ssh-remote%2Bsunlab-serv-03.cs.illinois.edu/home/pj20/GraphCare/graphcare_stat%20copy%202.ipynb#X15sdnNjb2RlLXJlbW90ZQ%3D%3D?line=5'>6</a>\u001b[0m \u001b[39mfor\u001b[39;00m patient \u001b[39min\u001b[39;00m sample_dataset:\n\u001b[1;32m      <a href='vscode-notebook-cell://ssh-remote%2Bsunlab-serv-03.cs.illinois.edu/home/pj20/GraphCare/graphcare_stat%20copy%202.ipynb#X15sdnNjb2RlLXJlbW90ZQ%3D%3D?line=6'>7</a>\u001b[0m     nodes_count \u001b[39m+\u001b[39m\u001b[39m=\u001b[39m \u001b[39mlen\u001b[39m(patient[\u001b[39m'\u001b[39m\u001b[39mnode_set\u001b[39m\u001b[39m'\u001b[39m])\n\u001b[0;32m----> <a href='vscode-notebook-cell://ssh-remote%2Bsunlab-serv-03.cs.illinois.edu/home/pj20/GraphCare/graphcare_stat%20copy%202.ipynb#X15sdnNjb2RlLXJlbW90ZQ%3D%3D?line=7'>8</a>\u001b[0m     edges_count \u001b[39m+\u001b[39m\u001b[39m=\u001b[39m \u001b[39mlen\u001b[39m(patient[\u001b[39m'\u001b[39;49m\u001b[39medge_set\u001b[39;49m\u001b[39m'\u001b[39;49m])\n\u001b[1;32m      <a href='vscode-notebook-cell://ssh-remote%2Bsunlab-serv-03.cs.illinois.edu/home/pj20/GraphCare/graphcare_stat%20copy%202.ipynb#X15sdnNjb2RlLXJlbW90ZQ%3D%3D?line=8'>9</a>\u001b[0m     cnt \u001b[39m+\u001b[39m\u001b[39m=\u001b[39m \u001b[39m1\u001b[39m\n\u001b[1;32m     <a href='vscode-notebook-cell://ssh-remote%2Bsunlab-serv-03.cs.illinois.edu/home/pj20/GraphCare/graphcare_stat%20copy%202.ipynb#X15sdnNjb2RlLXJlbW90ZQ%3D%3D?line=10'>11</a>\u001b[0m avg_nodes \u001b[39m=\u001b[39m nodes_count \u001b[39m/\u001b[39m cnt\n",
      "\u001b[0;31mKeyError\u001b[0m: 'edge_set'"
     ]
    }
   ],
   "source": [
    "nodes_count = 0\n",
    "edges_count = 0\n",
    "cnt = 0\n",
    "\n",
    "\n",
    "for patient in sample_dataset:\n",
    "    nodes_count += len(patient['node_set'])\n",
    "    edges_count += len(patient['edge_set'])\n",
    "    cnt += 1\n",
    "\n",
    "avg_nodes = nodes_count / cnt\n",
    "avg_edges = edges_count / cnt\n",
    "print(\"avg_nodes: \", avg_nodes)\n",
    "print(\"avg_edges: \", avg_edges)"
   ]
  },
  {
   "cell_type": "code",
   "execution_count": null,
   "metadata": {},
   "outputs": [],
   "source": []
  }
 ],
 "metadata": {
  "kernelspec": {
   "display_name": "Python 3.8.13 ('kgc')",
   "language": "python",
   "name": "python3"
  },
  "language_info": {
   "codemirror_mode": {
    "name": "ipython",
    "version": 3
   },
   "file_extension": ".py",
   "mimetype": "text/x-python",
   "name": "python",
   "nbconvert_exporter": "python",
   "pygments_lexer": "ipython3",
   "version": "3.8.13"
  },
  "orig_nbformat": 4,
  "vscode": {
   "interpreter": {
    "hash": "3d0509d9aa81f2882b18eeb72d4d23c32cae9029e9b99f63cde94ba86c35ac78"
   }
  }
 },
 "nbformat": 4,
 "nbformat_minor": 2
}
